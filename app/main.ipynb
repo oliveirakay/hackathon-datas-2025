{
 "cells": [
  {
   "cell_type": "markdown",
   "metadata": {},
   "source": [
    "# Prograd"
   ]
  },
  {
   "cell_type": "code",
   "execution_count": 7,
   "metadata": {},
   "outputs": [],
   "source": [
    "import pandas as pd\n",
    "import numpy as np\n",
    "df = pd.read_csv(r'..\\databases\\Classificação Geral do Ingresso\\bd_prograd01_2024.csv', sep=';', encoding='latin-1')\n"
   ]
  },
  {
   "cell_type": "markdown",
   "metadata": {},
   "source": [
    "## EDA"
   ]
  },
  {
   "cell_type": "code",
   "execution_count": 10,
   "metadata": {},
   "outputs": [
    {
     "data": {
      "text/plain": [
       "Index(['inscrição no ENEM', 'nome candidato', 'opção de curso',\n",
       "       'opção de campus', 'opção de turno', 'modalidade inscrição', 'nota',\n",
       "       'classificação original', 'classificação atual', 'status de matrícula',\n",
       "       'chamada', 'modalidade convocação'],\n",
       "      dtype='object')"
      ]
     },
     "execution_count": 10,
     "metadata": {},
     "output_type": "execute_result"
    }
   ],
   "source": [
    "df.columns"
   ]
  },
  {
   "cell_type": "code",
   "execution_count": 11,
   "metadata": {},
   "outputs": [
    {
     "name": "stdout",
     "output_type": "stream",
     "text": [
      "Dimensões do DataFrame: (9659, 12)\n",
      "<class 'pandas.core.frame.DataFrame'>\n",
      "RangeIndex: 9659 entries, 0 to 9658\n",
      "Data columns (total 12 columns):\n",
      " #   Column                  Non-Null Count  Dtype \n",
      "---  ------                  --------------  ----- \n",
      " 0   inscrição no ENEM       9659 non-null   object\n",
      " 1   nome candidato          9659 non-null   object\n",
      " 2   opção de curso          9659 non-null   object\n",
      " 3   opção de campus         9659 non-null   object\n",
      " 4   opção de turno          9659 non-null   object\n",
      " 5   modalidade inscrição    9659 non-null   object\n",
      " 6   nota                    9659 non-null   object\n",
      " 7   classificação original  9659 non-null   int64 \n",
      " 8   classificação atual     9659 non-null   int64 \n",
      " 9   status de matrícula     9659 non-null   object\n",
      " 10  chamada                 2949 non-null   object\n",
      " 11  modalidade convocação   2949 non-null   object\n",
      "dtypes: int64(2), object(10)\n",
      "memory usage: 905.7+ KB\n",
      "\n",
      "Valores nulos por coluna:\n",
      "inscrição no ENEM            0\n",
      "nome candidato               0\n",
      "opção de curso               0\n",
      "opção de campus              0\n",
      "opção de turno               0\n",
      "modalidade inscrição         0\n",
      "nota                         0\n",
      "classificação original       0\n",
      "classificação atual          0\n",
      "status de matrícula          0\n",
      "chamada                   6710\n",
      "modalidade convocação     6710\n",
      "dtype: int64\n",
      "\n",
      "Estatísticas descritivas:\n"
     ]
    },
    {
     "data": {
      "text/html": [
       "<div>\n",
       "<style scoped>\n",
       "    .dataframe tbody tr th:only-of-type {\n",
       "        vertical-align: middle;\n",
       "    }\n",
       "\n",
       "    .dataframe tbody tr th {\n",
       "        vertical-align: top;\n",
       "    }\n",
       "\n",
       "    .dataframe thead th {\n",
       "        text-align: right;\n",
       "    }\n",
       "</style>\n",
       "<table border=\"1\" class=\"dataframe\">\n",
       "  <thead>\n",
       "    <tr style=\"text-align: right;\">\n",
       "      <th></th>\n",
       "      <th>classificação original</th>\n",
       "      <th>classificação atual</th>\n",
       "    </tr>\n",
       "  </thead>\n",
       "  <tbody>\n",
       "    <tr>\n",
       "      <th>count</th>\n",
       "      <td>9659.000000</td>\n",
       "      <td>9659.000000</td>\n",
       "    </tr>\n",
       "    <tr>\n",
       "      <th>mean</th>\n",
       "      <td>174.626773</td>\n",
       "      <td>74.097836</td>\n",
       "    </tr>\n",
       "    <tr>\n",
       "      <th>std</th>\n",
       "      <td>192.336839</td>\n",
       "      <td>132.140263</td>\n",
       "    </tr>\n",
       "    <tr>\n",
       "      <th>min</th>\n",
       "      <td>1.000000</td>\n",
       "      <td>0.000000</td>\n",
       "    </tr>\n",
       "    <tr>\n",
       "      <th>25%</th>\n",
       "      <td>32.000000</td>\n",
       "      <td>0.000000</td>\n",
       "    </tr>\n",
       "    <tr>\n",
       "      <th>50%</th>\n",
       "      <td>99.000000</td>\n",
       "      <td>0.000000</td>\n",
       "    </tr>\n",
       "    <tr>\n",
       "      <th>75%</th>\n",
       "      <td>260.000000</td>\n",
       "      <td>90.000000</td>\n",
       "    </tr>\n",
       "    <tr>\n",
       "      <th>max</th>\n",
       "      <td>905.000000</td>\n",
       "      <td>669.000000</td>\n",
       "    </tr>\n",
       "  </tbody>\n",
       "</table>\n",
       "</div>"
      ],
      "text/plain": [
       "       classificação original  classificação atual\n",
       "count             9659.000000          9659.000000\n",
       "mean               174.626773            74.097836\n",
       "std                192.336839           132.140263\n",
       "min                  1.000000             0.000000\n",
       "25%                 32.000000             0.000000\n",
       "50%                 99.000000             0.000000\n",
       "75%                260.000000            90.000000\n",
       "max                905.000000           669.000000"
      ]
     },
     "execution_count": 11,
     "metadata": {},
     "output_type": "execute_result"
    }
   ],
   "source": [
    "# Dimensões do DataFrame\n",
    "print(f\"Dimensões do DataFrame: {df.shape}\")\n",
    "\n",
    "# Informações gerais\n",
    "df.info()\n",
    "\n",
    "# Verificar valores nulos\n",
    "print(\"\\nValores nulos por coluna:\")\n",
    "print(df.isnull().sum())\n",
    "\n",
    "# Estatísticas descritivas para colunas numéricas\n",
    "print(\"\\nEstatísticas descritivas:\")\n",
    "df.describe()"
   ]
  },
  {
   "cell_type": "markdown",
   "metadata": {},
   "source": [
    "### 1. Análise da modalidade de convocação"
   ]
  },
  {
   "cell_type": "code",
   "execution_count": 30,
   "metadata": {},
   "outputs": [
    {
     "name": "stdout",
     "output_type": "stream",
     "text": [
      "chamada\n",
      "NaN                   6710\n",
      "Chamada Regular       1845\n",
      "1ª Lista de Espera     610\n",
      "2ª Lista de Espera     221\n",
      "4ª Lista de Espera     164\n",
      "3ª Lista de Espera     109\n",
      "Name: count, dtype: int64 \n",
      "\n",
      "modalidade convocação\n",
      "NaN                             6710\n",
      "Ampla concorrência              1293\n",
      "Escola Pública + Renda           417\n",
      "PPI + Renda                      393\n",
      "Escola Pública                   343\n",
      "PPI                              303\n",
      "Escola Pública + PCD              47\n",
      "Escola Pública + PCD + Renda      47\n",
      "PCD                               45\n",
      "Pessoa Transgênera                23\n",
      "Pessoa Transgênera + Renda        15\n",
      "Quilombola                        11\n",
      "Quilombola + Renda                 9\n",
      "Refugiado                          2\n",
      "Refugiado + Renda                  1\n",
      "Name: count, dtype: int64\n"
     ]
    }
   ],
   "source": [
    "print(df.chamada.value_counts(dropna=False), '\\n')\n",
    "print(df['modalidade convocação'].value_counts(dropna=False))"
   ]
  },
  {
   "cell_type": "markdown",
   "metadata": {},
   "source": [
    "Os candidatos podem estar em mais de uma modadlidade de inscrição, mas convocados em apenas uma delas.\n",
    "O campo modalidade de convocação é preenchido quando o candidato é convocado, e pode ser usado para unificar candidatos que estão em mais de uma modalidade de inscrição.\t\n",
    "\n",
    "Classificação original"
   ]
  },
  {
   "cell_type": "code",
   "execution_count": 49,
   "metadata": {},
   "outputs": [
    {
     "data": {
      "text/html": [
       "<div>\n",
       "<style scoped>\n",
       "    .dataframe tbody tr th:only-of-type {\n",
       "        vertical-align: middle;\n",
       "    }\n",
       "\n",
       "    .dataframe tbody tr th {\n",
       "        vertical-align: top;\n",
       "    }\n",
       "\n",
       "    .dataframe thead th {\n",
       "        text-align: right;\n",
       "    }\n",
       "</style>\n",
       "<table border=\"1\" class=\"dataframe\">\n",
       "  <thead>\n",
       "    <tr style=\"text-align: right;\">\n",
       "      <th></th>\n",
       "      <th>inscrição no ENEM</th>\n",
       "      <th>nome candidato</th>\n",
       "      <th>opção de curso</th>\n",
       "      <th>opção de campus</th>\n",
       "      <th>opção de turno</th>\n",
       "      <th>modalidade inscrição</th>\n",
       "      <th>nota</th>\n",
       "      <th>classificação original</th>\n",
       "      <th>classificação atual</th>\n",
       "      <th>status de matrícula</th>\n",
       "      <th>chamada</th>\n",
       "      <th>modalidade convocação</th>\n",
       "    </tr>\n",
       "  </thead>\n",
       "  <tbody>\n",
       "    <tr>\n",
       "      <th>380</th>\n",
       "      <td>23****382708</td>\n",
       "      <td>MARIA EDUARDA FERNANDES HORTA RODRIGUES</td>\n",
       "      <td>BACHARELADO EM CIÊNCIA E TECNOLOGIA</td>\n",
       "      <td>SANTO ANDRÉ</td>\n",
       "      <td>MATUTINO</td>\n",
       "      <td>Ampla concorrência</td>\n",
       "      <td>671,20</td>\n",
       "      <td>183</td>\n",
       "      <td>1</td>\n",
       "      <td>Não Convocado(a)</td>\n",
       "      <td>NaN</td>\n",
       "      <td>NaN</td>\n",
       "    </tr>\n",
       "    <tr>\n",
       "      <th>1088</th>\n",
       "      <td>23****157391</td>\n",
       "      <td>PEDRO HENRIQUE CAMPOS RIBEIRO</td>\n",
       "      <td>BACHARELADO EM CIÊNCIA E TECNOLOGIA</td>\n",
       "      <td>SANTO ANDRÉ</td>\n",
       "      <td>MATUTINO</td>\n",
       "      <td>Escola Pública</td>\n",
       "      <td>670,95</td>\n",
       "      <td>33</td>\n",
       "      <td>1</td>\n",
       "      <td>Não Convocado(a)</td>\n",
       "      <td>NaN</td>\n",
       "      <td>NaN</td>\n",
       "    </tr>\n",
       "    <tr>\n",
       "      <th>1634</th>\n",
       "      <td>23****386073</td>\n",
       "      <td>NICOLAS PEREIRA SILVA SANTOS</td>\n",
       "      <td>BACHARELADO EM CIÊNCIA E TECNOLOGIA</td>\n",
       "      <td>SANTO ANDRÉ</td>\n",
       "      <td>MATUTINO</td>\n",
       "      <td>Escola Pública + Renda</td>\n",
       "      <td>612,61</td>\n",
       "      <td>52</td>\n",
       "      <td>1</td>\n",
       "      <td>Não Convocado(a)</td>\n",
       "      <td>NaN</td>\n",
       "      <td>NaN</td>\n",
       "    </tr>\n",
       "    <tr>\n",
       "      <th>1855</th>\n",
       "      <td>23****017942</td>\n",
       "      <td>ERICA SANTOS AVEDO</td>\n",
       "      <td>BACHARELADO EM CIÊNCIA E TECNOLOGIA</td>\n",
       "      <td>SANTO ANDRÉ</td>\n",
       "      <td>MATUTINO</td>\n",
       "      <td>PPI</td>\n",
       "      <td>628,36</td>\n",
       "      <td>31</td>\n",
       "      <td>1</td>\n",
       "      <td>Não Convocado(a)</td>\n",
       "      <td>NaN</td>\n",
       "      <td>NaN</td>\n",
       "    </tr>\n",
       "    <tr>\n",
       "      <th>2094</th>\n",
       "      <td>23****546264</td>\n",
       "      <td>MATHEUS FERNANDES DE CARVALHO</td>\n",
       "      <td>BACHARELADO EM CIÊNCIA E TECNOLOGIA</td>\n",
       "      <td>SANTO ANDRÉ</td>\n",
       "      <td>MATUTINO</td>\n",
       "      <td>PPI + Renda</td>\n",
       "      <td>565,56</td>\n",
       "      <td>46</td>\n",
       "      <td>1</td>\n",
       "      <td>Não Convocado(a)</td>\n",
       "      <td>NaN</td>\n",
       "      <td>NaN</td>\n",
       "    </tr>\n",
       "  </tbody>\n",
       "</table>\n",
       "</div>"
      ],
      "text/plain": [
       "     inscrição no ENEM                           nome candidato  \\\n",
       "380       23****382708  MARIA EDUARDA FERNANDES HORTA RODRIGUES   \n",
       "1088      23****157391            PEDRO HENRIQUE CAMPOS RIBEIRO   \n",
       "1634      23****386073             NICOLAS PEREIRA SILVA SANTOS   \n",
       "1855      23****017942                       ERICA SANTOS AVEDO   \n",
       "2094      23****546264            MATHEUS FERNANDES DE CARVALHO   \n",
       "\n",
       "                           opção de curso opção de campus opção de turno  \\\n",
       "380   BACHARELADO EM CIÊNCIA E TECNOLOGIA     SANTO ANDRÉ       MATUTINO   \n",
       "1088  BACHARELADO EM CIÊNCIA E TECNOLOGIA     SANTO ANDRÉ       MATUTINO   \n",
       "1634  BACHARELADO EM CIÊNCIA E TECNOLOGIA     SANTO ANDRÉ       MATUTINO   \n",
       "1855  BACHARELADO EM CIÊNCIA E TECNOLOGIA     SANTO ANDRÉ       MATUTINO   \n",
       "2094  BACHARELADO EM CIÊNCIA E TECNOLOGIA     SANTO ANDRÉ       MATUTINO   \n",
       "\n",
       "        modalidade inscrição    nota  classificação original  \\\n",
       "380       Ampla concorrência  671,20                     183   \n",
       "1088          Escola Pública  670,95                      33   \n",
       "1634  Escola Pública + Renda  612,61                      52   \n",
       "1855                     PPI  628,36                      31   \n",
       "2094             PPI + Renda  565,56                      46   \n",
       "\n",
       "      classificação atual status de matrícula chamada modalidade convocação  \n",
       "380                     1    Não Convocado(a)     NaN                   NaN  \n",
       "1088                    1    Não Convocado(a)     NaN                   NaN  \n",
       "1634                    1    Não Convocado(a)     NaN                   NaN  \n",
       "1855                    1    Não Convocado(a)     NaN                   NaN  \n",
       "2094                    1    Não Convocado(a)     NaN                   NaN  "
      ]
     },
     "execution_count": 49,
     "metadata": {},
     "output_type": "execute_result"
    }
   ],
   "source": [
    "df.loc[df['classificação atual'] == 1].head()\n",
    "# print(df['chamada'].unique())\n",
    "# df.loc[df['chamada'].isnull()]\n",
    "# df.loc[df['nome candidato'].str.contains('MARINA LIMA')]"
   ]
  },
  {
   "cell_type": "markdown",
   "metadata": {},
   "source": [
    "# MEC"
   ]
  },
  {
   "cell_type": "code",
   "execution_count": 1,
   "metadata": {},
   "outputs": [
    {
     "name": "stdout",
     "output_type": "stream",
     "text": [
      "+----+------+-----+---------------+----------+--------------------+---------+------+-------------+--------------------+---------+----------------+------------+--------------------+-----------+-------+----------------+-------+---------------------+------------------+---------------------+----------------+------+-------+-------+------+------+-------------+--------------+--------------+-------------+-------------+------------+-------------+--------------+--------------------+----+-------------+------------+-------------------+-----+------+-------+-------+------+------+---------------+----------------+----------------+---------------+---------------+--------------+----------+-------------+--------+---------+\n",
      "| ANO|EDICAO|ETAPA|       DS_ETAPA|CODIGO_IES|            NOME_IES|SIGLA_IES|UF_IES|CODIGO_CAMPUS|         NOME_CAMPUS|UF_CAMPUS|MUNICIPIO_CAMPUS|CODIGO_CURSO|          NOME_CURSO|       GRAU|  TURNO|DS_PERIODICIDADE|TP_COTA|TIPO_MOD_CONCORRENCIA|  MOD_CONCORRENCIA|QT_VAGAS_CONCORRENCIA|PERCENTUAL_BONUS|PESO_L|PESO_CH|PESO_CN|PESO_M|PESO_R|NOTA_MINIMA_L|NOTA_MINIMA_CH|NOTA_MINIMA_CN|NOTA_MINIMA_M|NOTA_MINIMA_R|MEDIA_MINIMA|          CPF|INSCRICAO_ENEM|            INSCRITO|SEXO|DT_NASCIMENTO|UF_CANDIDATO|MUNICIPIO_CANDIDATO|OPCAO|NOTA_L|NOTA_CH|NOTA_CN|NOTA_M|NOTA_R|NOTA_L_COM_PESO|NOTA_CH_COM_PESO|NOTA_CN_COM_PESO|NOTA_M_COM_PESO|NOTA_R_COM_PESO|NOTA_CANDIDATO|NOTA_CORTE|CLASSIFICACAO|APROVADO|MATRICULA|\n",
      "+----+------+-----+---------------+----------+--------------------+---------+------+-------------+--------------------+---------+----------------+------------+--------------------+-----------+-------+----------------+-------+---------------------+------------------+---------------------+----------------+------+-------+-------+------+------+-------------+--------------+--------------+-------------+-------------+------------+-------------+--------------+--------------------+----+-------------+------------+-------------------+-----+------+-------+-------+------+------+---------------+----------------+----------------+---------------+---------------+--------------+----------+-------------+--------+---------+\n",
      "|2023|     1|    4|CHAMADA REGULAR|       593|CENTRO FEDERAL DE...| CEFET/RJ|    RJ|         1663|CEFET-RJ - MARIA ...|       RJ|  Rio de Janeiro|     1441998|SISTEMAS DE INFOR...|Bacharelado|Noturno|       Semestral|   NULL|                    A|Ampla concorrência|                   15|            NULL|     1|      1|      2|     4|     3|        453,8|         444,7|         453,3|        438,4|          300|      418,04|XXX.529327-XX|  221XXXXXX588|ADILIO JOSE DIAS ...|   M|         2000|          RJ|     Rio de Janeiro|    1| 601,3|  605,3|  615,3| 663,2|   920|          601,3|           605,3|          1230,6|         2652,8|           2760|        713,64|     728,6|           32|       N| PENDENTE|\n",
      "|2023|     1|    4|CHAMADA REGULAR|       593|CENTRO FEDERAL DE...| CEFET/RJ|    RJ|         1663|CEFET-RJ - MARIA ...|       RJ|  Rio de Janeiro|     1441998|SISTEMAS DE INFOR...|Bacharelado|Noturno|       Semestral|   NULL|                    A|Ampla concorrência|                   15|            NULL|     1|      1|      2|     4|     3|        453,8|         444,7|         453,3|        438,4|          300|      418,04|XXX.524587-XX|  221XXXXXX209|ALESANDRO MONTEIR...|   M|         1978|          RJ|     Rio de Janeiro|    2| 545,2|  554,5|  554,1| 551,6|   480|          545,2|           554,5|          1108,2|         2206,4|           1440|        532,21|     728,6|          174|       N| PENDENTE|\n",
      "|2023|     1|    4|CHAMADA REGULAR|       593|CENTRO FEDERAL DE...| CEFET/RJ|    RJ|         1663|CEFET-RJ - MARIA ...|       RJ|  Rio de Janeiro|     1441998|SISTEMAS DE INFOR...|Bacharelado|Noturno|       Semestral|   NULL|                    A|Ampla concorrência|                   15|            NULL|     1|      1|      2|     4|     3|        453,8|         444,7|         453,3|        438,4|          300|      418,04|XXX.984807-XX|  221XXXXXX157|ALEX SANDRO JUNIO...|   M|         1999|          RJ|           Araruama|    1| 593,5|  645,9|  623,4| 719,7|   860|          593,5|           645,9|          1246,8|         2878,8|           2580|        722,27|     728,6|           19|       N| PENDENTE|\n",
      "|2023|     1|    4|CHAMADA REGULAR|       593|CENTRO FEDERAL DE...| CEFET/RJ|    RJ|         1663|CEFET-RJ - MARIA ...|       RJ|  Rio de Janeiro|     1441998|SISTEMAS DE INFOR...|Bacharelado|Noturno|       Semestral|   NULL|                    A|Ampla concorrência|                   15|            NULL|     1|      1|      2|     4|     3|        453,8|         444,7|         453,3|        438,4|          300|      418,04|XXX.191867-XX|  221XXXXXX662|ALEXANDRE SOUTO M...|   M|         2004|          RJ|     Rio de Janeiro|    1| 485,1|  572,2|  526,2| 520,6|   600|          485,1|           572,2|          1052,4|         2082,4|           1800|        544,74|     728,6|          169|       N| PENDENTE|\n",
      "|2023|     1|    4|CHAMADA REGULAR|       593|CENTRO FEDERAL DE...| CEFET/RJ|    RJ|         1663|CEFET-RJ - MARIA ...|       RJ|  Rio de Janeiro|     1441998|SISTEMAS DE INFOR...|Bacharelado|Noturno|       Semestral|   NULL|                    A|Ampla concorrência|                   15|            NULL|     1|      1|      2|     4|     3|        453,8|         444,7|         453,3|        438,4|          300|      418,04|XXX.787587-XX|  221XXXXXX458|ALEXANDRE VIANA G...|   M|         1994|          RJ|     Rio de Janeiro|    1| 631,3|  604,8|  621,1| 673,1|   580|          631,3|           604,8|          1242,2|         2692,4|           1740|        628,25|     728,6|          127|       N| PENDENTE|\n",
      "+----+------+-----+---------------+----------+--------------------+---------+------+-------------+--------------------+---------+----------------+------------+--------------------+-----------+-------+----------------+-------+---------------------+------------------+---------------------+----------------+------+-------+-------+------+------+-------------+--------------+--------------+-------------+-------------+------------+-------------+--------------+--------------------+----+-------------+------------+-------------------+-----+------+-------+-------+------+------+---------------+----------------+----------------+---------------+---------------+--------------+----------+-------------+--------+---------+\n",
      "only showing top 5 rows\n",
      "\n"
     ]
    }
   ],
   "source": [
    "from pyspark.sql import SparkSession\n",
    "\n",
    "# Iniciar uma sessão Spark\n",
    "spark = SparkSession.builder \\\n",
    "    .appName(\"Análise SISU\") \\\n",
    "    .config(\"spark.driver.memory\", \"4g\") \\\n",
    "    .getOrCreate()\n",
    "\n",
    "# Ler o CSV com Spark\n",
    "df_mec = spark.read.format(\"csv\") \\\n",
    "    .option(\"header\", \"true\") \\\n",
    "    .option(\"sep\", \"|\") \\\n",
    "    .option(\"encoding\", \"latin1\") \\\n",
    "    .load(r\"..\\databases\\MEC\\chamada_regular_sisu_2023_1.csv\")\n",
    "\n",
    "# Mostrar as primeiras linhas para verificar\n",
    "df_mec.show(5)"
   ]
  },
  {
   "cell_type": "code",
   "execution_count": 5,
   "metadata": {},
   "outputs": [],
   "source": [
    "spark.stop()"
   ]
  }
 ],
 "metadata": {
  "kernelspec": {
   "display_name": "env",
   "language": "python",
   "name": "python3"
  },
  "language_info": {
   "codemirror_mode": {
    "name": "ipython",
    "version": 3
   },
   "file_extension": ".py",
   "mimetype": "text/x-python",
   "name": "python",
   "nbconvert_exporter": "python",
   "pygments_lexer": "ipython3",
   "version": "3.13.0"
  }
 },
 "nbformat": 4,
 "nbformat_minor": 2
}
